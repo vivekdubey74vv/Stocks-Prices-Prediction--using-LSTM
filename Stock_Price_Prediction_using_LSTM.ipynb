{
  "nbformat": 4,
  "nbformat_minor": 0,
  "metadata": {
    "colab": {
      "provenance": [],
      "authorship_tag": "ABX9TyPwR/MsxS73Dtc2tmwZVjEZ",
      "include_colab_link": true
    },
    "kernelspec": {
      "name": "python3",
      "display_name": "Python 3"
    },
    "language_info": {
      "name": "python"
    }
  },
  "cells": [
    {
      "cell_type": "markdown",
      "metadata": {
        "id": "view-in-github",
        "colab_type": "text"
      },
      "source": [
        "<a href=\"https://colab.research.google.com/github/vivekdubey74vv/Stocks-Prices-Prediction--using-LSTM/blob/main/Stock_Price_Prediction_using_LSTM.ipynb\" target=\"_parent\"><img src=\"https://colab.research.google.com/assets/colab-badge.svg\" alt=\"Open In Colab\"/></a>"
      ]
    },
    {
      "cell_type": "code",
      "source": [
        "import numpy as np\n",
        "import pandas as pd\n",
        "import matplotlib.pyplot as plt\n",
        "from sklearn.preprocessing import MinMaxScaler\n",
        "from keras.models import Sequential\n",
        "from keras.layers import Dense,LSTM,Dropout"
      ],
      "metadata": {
        "id": "hdFHWWojWyUf"
      },
      "execution_count": 1,
      "outputs": []
    },
    {
      "cell_type": "code",
      "source": [
        " data = pd.read_csv('/content/Google_train_data.csv')\n",
        "data.head()\n",
        "\n"
      ],
      "metadata": {
        "id": "T6-hqhF6Diz2",
        "colab": {
          "base_uri": "https://localhost:8080/",
          "height": 206
        },
        "outputId": "b052045c-689f-435b-dca3-8e922568f980"
      },
      "execution_count": 6,
      "outputs": [
        {
          "output_type": "execute_result",
          "data": {
            "text/plain": [
              "       Date    Open    High     Low   Close      Volume\n",
              "0  1/3/2012  325.25  332.83  324.97  663.59   7,380,500\n",
              "1  1/4/2012  331.27  333.87  329.08  666.45   5,749,400\n",
              "2  1/5/2012  329.83  330.75  326.89  657.21   6,590,300\n",
              "3  1/6/2012  328.34  328.77  323.68  648.24   5,405,900\n",
              "4  1/9/2012  322.04  322.29  309.46  620.76  11,688,800"
            ],
            "text/html": [
              "\n",
              "  <div id=\"df-267161c3-7c91-4b49-869a-02f2d02c1b40\" class=\"colab-df-container\">\n",
              "    <div>\n",
              "<style scoped>\n",
              "    .dataframe tbody tr th:only-of-type {\n",
              "        vertical-align: middle;\n",
              "    }\n",
              "\n",
              "    .dataframe tbody tr th {\n",
              "        vertical-align: top;\n",
              "    }\n",
              "\n",
              "    .dataframe thead th {\n",
              "        text-align: right;\n",
              "    }\n",
              "</style>\n",
              "<table border=\"1\" class=\"dataframe\">\n",
              "  <thead>\n",
              "    <tr style=\"text-align: right;\">\n",
              "      <th></th>\n",
              "      <th>Date</th>\n",
              "      <th>Open</th>\n",
              "      <th>High</th>\n",
              "      <th>Low</th>\n",
              "      <th>Close</th>\n",
              "      <th>Volume</th>\n",
              "    </tr>\n",
              "  </thead>\n",
              "  <tbody>\n",
              "    <tr>\n",
              "      <th>0</th>\n",
              "      <td>1/3/2012</td>\n",
              "      <td>325.25</td>\n",
              "      <td>332.83</td>\n",
              "      <td>324.97</td>\n",
              "      <td>663.59</td>\n",
              "      <td>7,380,500</td>\n",
              "    </tr>\n",
              "    <tr>\n",
              "      <th>1</th>\n",
              "      <td>1/4/2012</td>\n",
              "      <td>331.27</td>\n",
              "      <td>333.87</td>\n",
              "      <td>329.08</td>\n",
              "      <td>666.45</td>\n",
              "      <td>5,749,400</td>\n",
              "    </tr>\n",
              "    <tr>\n",
              "      <th>2</th>\n",
              "      <td>1/5/2012</td>\n",
              "      <td>329.83</td>\n",
              "      <td>330.75</td>\n",
              "      <td>326.89</td>\n",
              "      <td>657.21</td>\n",
              "      <td>6,590,300</td>\n",
              "    </tr>\n",
              "    <tr>\n",
              "      <th>3</th>\n",
              "      <td>1/6/2012</td>\n",
              "      <td>328.34</td>\n",
              "      <td>328.77</td>\n",
              "      <td>323.68</td>\n",
              "      <td>648.24</td>\n",
              "      <td>5,405,900</td>\n",
              "    </tr>\n",
              "    <tr>\n",
              "      <th>4</th>\n",
              "      <td>1/9/2012</td>\n",
              "      <td>322.04</td>\n",
              "      <td>322.29</td>\n",
              "      <td>309.46</td>\n",
              "      <td>620.76</td>\n",
              "      <td>11,688,800</td>\n",
              "    </tr>\n",
              "  </tbody>\n",
              "</table>\n",
              "</div>\n",
              "    <div class=\"colab-df-buttons\">\n",
              "\n",
              "  <div class=\"colab-df-container\">\n",
              "    <button class=\"colab-df-convert\" onclick=\"convertToInteractive('df-267161c3-7c91-4b49-869a-02f2d02c1b40')\"\n",
              "            title=\"Convert this dataframe to an interactive table.\"\n",
              "            style=\"display:none;\">\n",
              "\n",
              "  <svg xmlns=\"http://www.w3.org/2000/svg\" height=\"24px\" viewBox=\"0 -960 960 960\">\n",
              "    <path d=\"M120-120v-720h720v720H120Zm60-500h600v-160H180v160Zm220 220h160v-160H400v160Zm0 220h160v-160H400v160ZM180-400h160v-160H180v160Zm440 0h160v-160H620v160ZM180-180h160v-160H180v160Zm440 0h160v-160H620v160Z\"/>\n",
              "  </svg>\n",
              "    </button>\n",
              "\n",
              "  <style>\n",
              "    .colab-df-container {\n",
              "      display:flex;\n",
              "      gap: 12px;\n",
              "    }\n",
              "\n",
              "    .colab-df-convert {\n",
              "      background-color: #E8F0FE;\n",
              "      border: none;\n",
              "      border-radius: 50%;\n",
              "      cursor: pointer;\n",
              "      display: none;\n",
              "      fill: #1967D2;\n",
              "      height: 32px;\n",
              "      padding: 0 0 0 0;\n",
              "      width: 32px;\n",
              "    }\n",
              "\n",
              "    .colab-df-convert:hover {\n",
              "      background-color: #E2EBFA;\n",
              "      box-shadow: 0px 1px 2px rgba(60, 64, 67, 0.3), 0px 1px 3px 1px rgba(60, 64, 67, 0.15);\n",
              "      fill: #174EA6;\n",
              "    }\n",
              "\n",
              "    .colab-df-buttons div {\n",
              "      margin-bottom: 4px;\n",
              "    }\n",
              "\n",
              "    [theme=dark] .colab-df-convert {\n",
              "      background-color: #3B4455;\n",
              "      fill: #D2E3FC;\n",
              "    }\n",
              "\n",
              "    [theme=dark] .colab-df-convert:hover {\n",
              "      background-color: #434B5C;\n",
              "      box-shadow: 0px 1px 3px 1px rgba(0, 0, 0, 0.15);\n",
              "      filter: drop-shadow(0px 1px 2px rgba(0, 0, 0, 0.3));\n",
              "      fill: #FFFFFF;\n",
              "    }\n",
              "  </style>\n",
              "\n",
              "    <script>\n",
              "      const buttonEl =\n",
              "        document.querySelector('#df-267161c3-7c91-4b49-869a-02f2d02c1b40 button.colab-df-convert');\n",
              "      buttonEl.style.display =\n",
              "        google.colab.kernel.accessAllowed ? 'block' : 'none';\n",
              "\n",
              "      async function convertToInteractive(key) {\n",
              "        const element = document.querySelector('#df-267161c3-7c91-4b49-869a-02f2d02c1b40');\n",
              "        const dataTable =\n",
              "          await google.colab.kernel.invokeFunction('convertToInteractive',\n",
              "                                                    [key], {});\n",
              "        if (!dataTable) return;\n",
              "\n",
              "        const docLinkHtml = 'Like what you see? Visit the ' +\n",
              "          '<a target=\"_blank\" href=https://colab.research.google.com/notebooks/data_table.ipynb>data table notebook</a>'\n",
              "          + ' to learn more about interactive tables.';\n",
              "        element.innerHTML = '';\n",
              "        dataTable['output_type'] = 'display_data';\n",
              "        await google.colab.output.renderOutput(dataTable, element);\n",
              "        const docLink = document.createElement('div');\n",
              "        docLink.innerHTML = docLinkHtml;\n",
              "        element.appendChild(docLink);\n",
              "      }\n",
              "    </script>\n",
              "  </div>\n",
              "\n",
              "\n",
              "<div id=\"df-7dd84a4c-3fe3-4d5b-bc1e-4e87d7436672\">\n",
              "  <button class=\"colab-df-quickchart\" onclick=\"quickchart('df-7dd84a4c-3fe3-4d5b-bc1e-4e87d7436672')\"\n",
              "            title=\"Suggest charts.\"\n",
              "            style=\"display:none;\">\n",
              "\n",
              "<svg xmlns=\"http://www.w3.org/2000/svg\" height=\"24px\"viewBox=\"0 0 24 24\"\n",
              "     width=\"24px\">\n",
              "    <g>\n",
              "        <path d=\"M19 3H5c-1.1 0-2 .9-2 2v14c0 1.1.9 2 2 2h14c1.1 0 2-.9 2-2V5c0-1.1-.9-2-2-2zM9 17H7v-7h2v7zm4 0h-2V7h2v10zm4 0h-2v-4h2v4z\"/>\n",
              "    </g>\n",
              "</svg>\n",
              "  </button>\n",
              "\n",
              "<style>\n",
              "  .colab-df-quickchart {\n",
              "      --bg-color: #E8F0FE;\n",
              "      --fill-color: #1967D2;\n",
              "      --hover-bg-color: #E2EBFA;\n",
              "      --hover-fill-color: #174EA6;\n",
              "      --disabled-fill-color: #AAA;\n",
              "      --disabled-bg-color: #DDD;\n",
              "  }\n",
              "\n",
              "  [theme=dark] .colab-df-quickchart {\n",
              "      --bg-color: #3B4455;\n",
              "      --fill-color: #D2E3FC;\n",
              "      --hover-bg-color: #434B5C;\n",
              "      --hover-fill-color: #FFFFFF;\n",
              "      --disabled-bg-color: #3B4455;\n",
              "      --disabled-fill-color: #666;\n",
              "  }\n",
              "\n",
              "  .colab-df-quickchart {\n",
              "    background-color: var(--bg-color);\n",
              "    border: none;\n",
              "    border-radius: 50%;\n",
              "    cursor: pointer;\n",
              "    display: none;\n",
              "    fill: var(--fill-color);\n",
              "    height: 32px;\n",
              "    padding: 0;\n",
              "    width: 32px;\n",
              "  }\n",
              "\n",
              "  .colab-df-quickchart:hover {\n",
              "    background-color: var(--hover-bg-color);\n",
              "    box-shadow: 0 1px 2px rgba(60, 64, 67, 0.3), 0 1px 3px 1px rgba(60, 64, 67, 0.15);\n",
              "    fill: var(--button-hover-fill-color);\n",
              "  }\n",
              "\n",
              "  .colab-df-quickchart-complete:disabled,\n",
              "  .colab-df-quickchart-complete:disabled:hover {\n",
              "    background-color: var(--disabled-bg-color);\n",
              "    fill: var(--disabled-fill-color);\n",
              "    box-shadow: none;\n",
              "  }\n",
              "\n",
              "  .colab-df-spinner {\n",
              "    border: 2px solid var(--fill-color);\n",
              "    border-color: transparent;\n",
              "    border-bottom-color: var(--fill-color);\n",
              "    animation:\n",
              "      spin 1s steps(1) infinite;\n",
              "  }\n",
              "\n",
              "  @keyframes spin {\n",
              "    0% {\n",
              "      border-color: transparent;\n",
              "      border-bottom-color: var(--fill-color);\n",
              "      border-left-color: var(--fill-color);\n",
              "    }\n",
              "    20% {\n",
              "      border-color: transparent;\n",
              "      border-left-color: var(--fill-color);\n",
              "      border-top-color: var(--fill-color);\n",
              "    }\n",
              "    30% {\n",
              "      border-color: transparent;\n",
              "      border-left-color: var(--fill-color);\n",
              "      border-top-color: var(--fill-color);\n",
              "      border-right-color: var(--fill-color);\n",
              "    }\n",
              "    40% {\n",
              "      border-color: transparent;\n",
              "      border-right-color: var(--fill-color);\n",
              "      border-top-color: var(--fill-color);\n",
              "    }\n",
              "    60% {\n",
              "      border-color: transparent;\n",
              "      border-right-color: var(--fill-color);\n",
              "    }\n",
              "    80% {\n",
              "      border-color: transparent;\n",
              "      border-right-color: var(--fill-color);\n",
              "      border-bottom-color: var(--fill-color);\n",
              "    }\n",
              "    90% {\n",
              "      border-color: transparent;\n",
              "      border-bottom-color: var(--fill-color);\n",
              "    }\n",
              "  }\n",
              "</style>\n",
              "\n",
              "  <script>\n",
              "    async function quickchart(key) {\n",
              "      const quickchartButtonEl =\n",
              "        document.querySelector('#' + key + ' button');\n",
              "      quickchartButtonEl.disabled = true;  // To prevent multiple clicks.\n",
              "      quickchartButtonEl.classList.add('colab-df-spinner');\n",
              "      try {\n",
              "        const charts = await google.colab.kernel.invokeFunction(\n",
              "            'suggestCharts', [key], {});\n",
              "      } catch (error) {\n",
              "        console.error('Error during call to suggestCharts:', error);\n",
              "      }\n",
              "      quickchartButtonEl.classList.remove('colab-df-spinner');\n",
              "      quickchartButtonEl.classList.add('colab-df-quickchart-complete');\n",
              "    }\n",
              "    (() => {\n",
              "      let quickchartButtonEl =\n",
              "        document.querySelector('#df-7dd84a4c-3fe3-4d5b-bc1e-4e87d7436672 button');\n",
              "      quickchartButtonEl.style.display =\n",
              "        google.colab.kernel.accessAllowed ? 'block' : 'none';\n",
              "    })();\n",
              "  </script>\n",
              "</div>\n",
              "    </div>\n",
              "  </div>\n"
            ]
          },
          "metadata": {},
          "execution_count": 6
        }
      ]
    },
    {
      "cell_type": "code",
      "source": [
        "data.tail()\n"
      ],
      "metadata": {
        "colab": {
          "base_uri": "https://localhost:8080/",
          "height": 206
        },
        "id": "3zlhvjkS74i6",
        "outputId": "31f9af7f-e8f1-448a-d3e4-2bbcb037d1e6"
      },
      "execution_count": 7,
      "outputs": [
        {
          "output_type": "execute_result",
          "data": {
            "text/plain": [
              "            Date    Open    High     Low   Close     Volume\n",
              "1253  12/23/2016  790.90  792.74  787.28  789.91    623,400\n",
              "1254  12/27/2016  790.68  797.86  787.66  791.55    789,100\n",
              "1255  12/28/2016  793.70  794.23  783.20  785.05  1,153,800\n",
              "1256  12/29/2016  783.33  785.93  778.92  782.79    744,300\n",
              "1257  12/30/2016  782.75  782.78  770.41  771.82  1,770,000"
            ],
            "text/html": [
              "\n",
              "  <div id=\"df-0b9e7812-f048-459f-8ce4-240a0d8a3fe4\" class=\"colab-df-container\">\n",
              "    <div>\n",
              "<style scoped>\n",
              "    .dataframe tbody tr th:only-of-type {\n",
              "        vertical-align: middle;\n",
              "    }\n",
              "\n",
              "    .dataframe tbody tr th {\n",
              "        vertical-align: top;\n",
              "    }\n",
              "\n",
              "    .dataframe thead th {\n",
              "        text-align: right;\n",
              "    }\n",
              "</style>\n",
              "<table border=\"1\" class=\"dataframe\">\n",
              "  <thead>\n",
              "    <tr style=\"text-align: right;\">\n",
              "      <th></th>\n",
              "      <th>Date</th>\n",
              "      <th>Open</th>\n",
              "      <th>High</th>\n",
              "      <th>Low</th>\n",
              "      <th>Close</th>\n",
              "      <th>Volume</th>\n",
              "    </tr>\n",
              "  </thead>\n",
              "  <tbody>\n",
              "    <tr>\n",
              "      <th>1253</th>\n",
              "      <td>12/23/2016</td>\n",
              "      <td>790.90</td>\n",
              "      <td>792.74</td>\n",
              "      <td>787.28</td>\n",
              "      <td>789.91</td>\n",
              "      <td>623,400</td>\n",
              "    </tr>\n",
              "    <tr>\n",
              "      <th>1254</th>\n",
              "      <td>12/27/2016</td>\n",
              "      <td>790.68</td>\n",
              "      <td>797.86</td>\n",
              "      <td>787.66</td>\n",
              "      <td>791.55</td>\n",
              "      <td>789,100</td>\n",
              "    </tr>\n",
              "    <tr>\n",
              "      <th>1255</th>\n",
              "      <td>12/28/2016</td>\n",
              "      <td>793.70</td>\n",
              "      <td>794.23</td>\n",
              "      <td>783.20</td>\n",
              "      <td>785.05</td>\n",
              "      <td>1,153,800</td>\n",
              "    </tr>\n",
              "    <tr>\n",
              "      <th>1256</th>\n",
              "      <td>12/29/2016</td>\n",
              "      <td>783.33</td>\n",
              "      <td>785.93</td>\n",
              "      <td>778.92</td>\n",
              "      <td>782.79</td>\n",
              "      <td>744,300</td>\n",
              "    </tr>\n",
              "    <tr>\n",
              "      <th>1257</th>\n",
              "      <td>12/30/2016</td>\n",
              "      <td>782.75</td>\n",
              "      <td>782.78</td>\n",
              "      <td>770.41</td>\n",
              "      <td>771.82</td>\n",
              "      <td>1,770,000</td>\n",
              "    </tr>\n",
              "  </tbody>\n",
              "</table>\n",
              "</div>\n",
              "    <div class=\"colab-df-buttons\">\n",
              "\n",
              "  <div class=\"colab-df-container\">\n",
              "    <button class=\"colab-df-convert\" onclick=\"convertToInteractive('df-0b9e7812-f048-459f-8ce4-240a0d8a3fe4')\"\n",
              "            title=\"Convert this dataframe to an interactive table.\"\n",
              "            style=\"display:none;\">\n",
              "\n",
              "  <svg xmlns=\"http://www.w3.org/2000/svg\" height=\"24px\" viewBox=\"0 -960 960 960\">\n",
              "    <path d=\"M120-120v-720h720v720H120Zm60-500h600v-160H180v160Zm220 220h160v-160H400v160Zm0 220h160v-160H400v160ZM180-400h160v-160H180v160Zm440 0h160v-160H620v160ZM180-180h160v-160H180v160Zm440 0h160v-160H620v160Z\"/>\n",
              "  </svg>\n",
              "    </button>\n",
              "\n",
              "  <style>\n",
              "    .colab-df-container {\n",
              "      display:flex;\n",
              "      gap: 12px;\n",
              "    }\n",
              "\n",
              "    .colab-df-convert {\n",
              "      background-color: #E8F0FE;\n",
              "      border: none;\n",
              "      border-radius: 50%;\n",
              "      cursor: pointer;\n",
              "      display: none;\n",
              "      fill: #1967D2;\n",
              "      height: 32px;\n",
              "      padding: 0 0 0 0;\n",
              "      width: 32px;\n",
              "    }\n",
              "\n",
              "    .colab-df-convert:hover {\n",
              "      background-color: #E2EBFA;\n",
              "      box-shadow: 0px 1px 2px rgba(60, 64, 67, 0.3), 0px 1px 3px 1px rgba(60, 64, 67, 0.15);\n",
              "      fill: #174EA6;\n",
              "    }\n",
              "\n",
              "    .colab-df-buttons div {\n",
              "      margin-bottom: 4px;\n",
              "    }\n",
              "\n",
              "    [theme=dark] .colab-df-convert {\n",
              "      background-color: #3B4455;\n",
              "      fill: #D2E3FC;\n",
              "    }\n",
              "\n",
              "    [theme=dark] .colab-df-convert:hover {\n",
              "      background-color: #434B5C;\n",
              "      box-shadow: 0px 1px 3px 1px rgba(0, 0, 0, 0.15);\n",
              "      filter: drop-shadow(0px 1px 2px rgba(0, 0, 0, 0.3));\n",
              "      fill: #FFFFFF;\n",
              "    }\n",
              "  </style>\n",
              "\n",
              "    <script>\n",
              "      const buttonEl =\n",
              "        document.querySelector('#df-0b9e7812-f048-459f-8ce4-240a0d8a3fe4 button.colab-df-convert');\n",
              "      buttonEl.style.display =\n",
              "        google.colab.kernel.accessAllowed ? 'block' : 'none';\n",
              "\n",
              "      async function convertToInteractive(key) {\n",
              "        const element = document.querySelector('#df-0b9e7812-f048-459f-8ce4-240a0d8a3fe4');\n",
              "        const dataTable =\n",
              "          await google.colab.kernel.invokeFunction('convertToInteractive',\n",
              "                                                    [key], {});\n",
              "        if (!dataTable) return;\n",
              "\n",
              "        const docLinkHtml = 'Like what you see? Visit the ' +\n",
              "          '<a target=\"_blank\" href=https://colab.research.google.com/notebooks/data_table.ipynb>data table notebook</a>'\n",
              "          + ' to learn more about interactive tables.';\n",
              "        element.innerHTML = '';\n",
              "        dataTable['output_type'] = 'display_data';\n",
              "        await google.colab.output.renderOutput(dataTable, element);\n",
              "        const docLink = document.createElement('div');\n",
              "        docLink.innerHTML = docLinkHtml;\n",
              "        element.appendChild(docLink);\n",
              "      }\n",
              "    </script>\n",
              "  </div>\n",
              "\n",
              "\n",
              "<div id=\"df-d13acc51-31f8-4194-a794-5ff2bfd28c93\">\n",
              "  <button class=\"colab-df-quickchart\" onclick=\"quickchart('df-d13acc51-31f8-4194-a794-5ff2bfd28c93')\"\n",
              "            title=\"Suggest charts.\"\n",
              "            style=\"display:none;\">\n",
              "\n",
              "<svg xmlns=\"http://www.w3.org/2000/svg\" height=\"24px\"viewBox=\"0 0 24 24\"\n",
              "     width=\"24px\">\n",
              "    <g>\n",
              "        <path d=\"M19 3H5c-1.1 0-2 .9-2 2v14c0 1.1.9 2 2 2h14c1.1 0 2-.9 2-2V5c0-1.1-.9-2-2-2zM9 17H7v-7h2v7zm4 0h-2V7h2v10zm4 0h-2v-4h2v4z\"/>\n",
              "    </g>\n",
              "</svg>\n",
              "  </button>\n",
              "\n",
              "<style>\n",
              "  .colab-df-quickchart {\n",
              "      --bg-color: #E8F0FE;\n",
              "      --fill-color: #1967D2;\n",
              "      --hover-bg-color: #E2EBFA;\n",
              "      --hover-fill-color: #174EA6;\n",
              "      --disabled-fill-color: #AAA;\n",
              "      --disabled-bg-color: #DDD;\n",
              "  }\n",
              "\n",
              "  [theme=dark] .colab-df-quickchart {\n",
              "      --bg-color: #3B4455;\n",
              "      --fill-color: #D2E3FC;\n",
              "      --hover-bg-color: #434B5C;\n",
              "      --hover-fill-color: #FFFFFF;\n",
              "      --disabled-bg-color: #3B4455;\n",
              "      --disabled-fill-color: #666;\n",
              "  }\n",
              "\n",
              "  .colab-df-quickchart {\n",
              "    background-color: var(--bg-color);\n",
              "    border: none;\n",
              "    border-radius: 50%;\n",
              "    cursor: pointer;\n",
              "    display: none;\n",
              "    fill: var(--fill-color);\n",
              "    height: 32px;\n",
              "    padding: 0;\n",
              "    width: 32px;\n",
              "  }\n",
              "\n",
              "  .colab-df-quickchart:hover {\n",
              "    background-color: var(--hover-bg-color);\n",
              "    box-shadow: 0 1px 2px rgba(60, 64, 67, 0.3), 0 1px 3px 1px rgba(60, 64, 67, 0.15);\n",
              "    fill: var(--button-hover-fill-color);\n",
              "  }\n",
              "\n",
              "  .colab-df-quickchart-complete:disabled,\n",
              "  .colab-df-quickchart-complete:disabled:hover {\n",
              "    background-color: var(--disabled-bg-color);\n",
              "    fill: var(--disabled-fill-color);\n",
              "    box-shadow: none;\n",
              "  }\n",
              "\n",
              "  .colab-df-spinner {\n",
              "    border: 2px solid var(--fill-color);\n",
              "    border-color: transparent;\n",
              "    border-bottom-color: var(--fill-color);\n",
              "    animation:\n",
              "      spin 1s steps(1) infinite;\n",
              "  }\n",
              "\n",
              "  @keyframes spin {\n",
              "    0% {\n",
              "      border-color: transparent;\n",
              "      border-bottom-color: var(--fill-color);\n",
              "      border-left-color: var(--fill-color);\n",
              "    }\n",
              "    20% {\n",
              "      border-color: transparent;\n",
              "      border-left-color: var(--fill-color);\n",
              "      border-top-color: var(--fill-color);\n",
              "    }\n",
              "    30% {\n",
              "      border-color: transparent;\n",
              "      border-left-color: var(--fill-color);\n",
              "      border-top-color: var(--fill-color);\n",
              "      border-right-color: var(--fill-color);\n",
              "    }\n",
              "    40% {\n",
              "      border-color: transparent;\n",
              "      border-right-color: var(--fill-color);\n",
              "      border-top-color: var(--fill-color);\n",
              "    }\n",
              "    60% {\n",
              "      border-color: transparent;\n",
              "      border-right-color: var(--fill-color);\n",
              "    }\n",
              "    80% {\n",
              "      border-color: transparent;\n",
              "      border-right-color: var(--fill-color);\n",
              "      border-bottom-color: var(--fill-color);\n",
              "    }\n",
              "    90% {\n",
              "      border-color: transparent;\n",
              "      border-bottom-color: var(--fill-color);\n",
              "    }\n",
              "  }\n",
              "</style>\n",
              "\n",
              "  <script>\n",
              "    async function quickchart(key) {\n",
              "      const quickchartButtonEl =\n",
              "        document.querySelector('#' + key + ' button');\n",
              "      quickchartButtonEl.disabled = true;  // To prevent multiple clicks.\n",
              "      quickchartButtonEl.classList.add('colab-df-spinner');\n",
              "      try {\n",
              "        const charts = await google.colab.kernel.invokeFunction(\n",
              "            'suggestCharts', [key], {});\n",
              "      } catch (error) {\n",
              "        console.error('Error during call to suggestCharts:', error);\n",
              "      }\n",
              "      quickchartButtonEl.classList.remove('colab-df-spinner');\n",
              "      quickchartButtonEl.classList.add('colab-df-quickchart-complete');\n",
              "    }\n",
              "    (() => {\n",
              "      let quickchartButtonEl =\n",
              "        document.querySelector('#df-d13acc51-31f8-4194-a794-5ff2bfd28c93 button');\n",
              "      quickchartButtonEl.style.display =\n",
              "        google.colab.kernel.accessAllowed ? 'block' : 'none';\n",
              "    })();\n",
              "  </script>\n",
              "</div>\n",
              "    </div>\n",
              "  </div>\n"
            ]
          },
          "metadata": {},
          "execution_count": 7
        }
      ]
    },
    {
      "cell_type": "code",
      "source": [
        " data.info()\n"
      ],
      "metadata": {
        "colab": {
          "base_uri": "https://localhost:8080/"
        },
        "id": "49aG7Mst9nkP",
        "outputId": "d335d70c-39fb-4eb1-b98f-133eaf51b50f"
      },
      "execution_count": 8,
      "outputs": [
        {
          "output_type": "stream",
          "name": "stdout",
          "text": [
            "<class 'pandas.core.frame.DataFrame'>\n",
            "RangeIndex: 1258 entries, 0 to 1257\n",
            "Data columns (total 6 columns):\n",
            " #   Column  Non-Null Count  Dtype  \n",
            "---  ------  --------------  -----  \n",
            " 0   Date    1258 non-null   object \n",
            " 1   Open    1258 non-null   float64\n",
            " 2   High    1258 non-null   float64\n",
            " 3   Low     1258 non-null   float64\n",
            " 4   Close   1258 non-null   object \n",
            " 5   Volume  1258 non-null   object \n",
            "dtypes: float64(3), object(3)\n",
            "memory usage: 59.1+ KB\n"
          ]
        }
      ]
    },
    {
      "cell_type": "code",
      "source": [
        "df.info()"
      ],
      "metadata": {
        "colab": {
          "base_uri": "https://localhost:8080/"
        },
        "id": "fcDUJW-MEyqj",
        "outputId": "706b613c-0586-4603-dfd5-9bf46d1559af"
      },
      "execution_count": 37,
      "outputs": [
        {
          "output_type": "stream",
          "name": "stdout",
          "text": [
            "<class 'pandas.core.frame.DataFrame'>\n",
            "RangeIndex: 4463 entries, 0 to 4462\n",
            "Data columns (total 8 columns):\n",
            " #   Column        Non-Null Count  Dtype  \n",
            "---  ------        --------------  -----  \n",
            " 0   Date          4463 non-null   object \n",
            " 1   Open          4463 non-null   float64\n",
            " 2   High          4463 non-null   float64\n",
            " 3   Low           4463 non-null   float64\n",
            " 4   Close         4463 non-null   float64\n",
            " 5   Volume        4463 non-null   int64  \n",
            " 6   Dividends     4463 non-null   float64\n",
            " 7   Stock Splits  4463 non-null   float64\n",
            "dtypes: float64(6), int64(1), object(1)\n",
            "memory usage: 279.1+ KB\n"
          ]
        }
      ]
    },
    {
      "cell_type": "code",
      "source": [
        "data[\"Close\"]=pd.to_numeric(data.Close,errors='coerce')\n",
        "data = data.dropna()\n",
        "trainData = data.iloc[:,4:5].values"
      ],
      "metadata": {
        "id": "qoM9ZT50YYsv"
      },
      "execution_count": 9,
      "outputs": []
    },
    {
      "cell_type": "code",
      "source": [
        "data.info()"
      ],
      "metadata": {
        "colab": {
          "base_uri": "https://localhost:8080/"
        },
        "id": "iyMXq3RpYdr0",
        "outputId": "1723b1c3-29cd-44c2-f706-a2e6965ddd8f"
      },
      "execution_count": 11,
      "outputs": [
        {
          "output_type": "stream",
          "name": "stdout",
          "text": [
            "<class 'pandas.core.frame.DataFrame'>\n",
            "Int64Index: 1149 entries, 0 to 1257\n",
            "Data columns (total 6 columns):\n",
            " #   Column  Non-Null Count  Dtype  \n",
            "---  ------  --------------  -----  \n",
            " 0   Date    1149 non-null   object \n",
            " 1   Open    1149 non-null   float64\n",
            " 2   High    1149 non-null   float64\n",
            " 3   Low     1149 non-null   float64\n",
            " 4   Close   1149 non-null   float64\n",
            " 5   Volume  1149 non-null   object \n",
            "dtypes: float64(4), object(2)\n",
            "memory usage: 62.8+ KB\n"
          ]
        }
      ]
    },
    {
      "cell_type": "code",
      "source": [
        "sc = MinMaxScaler(feature_range=(0,1))\n",
        "trainData = sc.fit_transform(trainData)\n",
        "trainData.shape"
      ],
      "metadata": {
        "colab": {
          "base_uri": "https://localhost:8080/"
        },
        "id": "vvoVytumYd2G",
        "outputId": "946b7ae7-238c-4190-9f41-fa773866d66c"
      },
      "execution_count": 12,
      "outputs": [
        {
          "output_type": "execute_result",
          "data": {
            "text/plain": [
              "(1149, 1)"
            ]
          },
          "metadata": {},
          "execution_count": 12
        }
      ]
    },
    {
      "cell_type": "code",
      "source": [
        "X_train = []\n",
        "y_train = []\n",
        "for i in range (60,1149):\n",
        " X_train.append(trainData[i-60:i,0])\n",
        " y_train.append(trainData[i,0])\n",
        "X_train,y_train = np.array(X_train),np.array(y_train)"
      ],
      "metadata": {
        "id": "kctA6xbmYd5H"
      },
      "execution_count": 15,
      "outputs": []
    },
    {
      "cell_type": "code",
      "source": [
        "X_train = np.reshape(X_train,(X_train.shape[0],X_train.shape[1],1))\n",
        "X_train.shape"
      ],
      "metadata": {
        "colab": {
          "base_uri": "https://localhost:8080/"
        },
        "id": "J6Ph0JVlYd7M",
        "outputId": "29f1457e-395c-43a4-f9f7-6bf6552bf3af"
      },
      "execution_count": 17,
      "outputs": [
        {
          "output_type": "execute_result",
          "data": {
            "text/plain": [
              "(1089, 60, 1)"
            ]
          },
          "metadata": {},
          "execution_count": 17
        }
      ]
    },
    {
      "cell_type": "code",
      "source": [
        "model = Sequential()\n",
        "model.add(LSTM(units=100, return_sequences = True, input_shape =(X_train.shape[1],1)))\n",
        "model.add(Dropout(0.2))\n",
        "model.add(LSTM(units=100, return_sequences = True))\n",
        "model.add(Dropout(0.2))\n",
        "model.add(LSTM(units=100, return_sequences = True))\n",
        "model.add(Dropout(0.2))\n",
        "model.add(LSTM(units=100, return_sequences = False))\n",
        "model.add(Dropout(0.2))\n",
        "model.add(Dense(units =1))\n",
        "model.compile(optimizer='adam',loss=\"mean_squared_error\")\n"
      ],
      "metadata": {
        "id": "4yAT5IhqYd9Z"
      },
      "execution_count": 20,
      "outputs": []
    },
    {
      "cell_type": "code",
      "source": [
        " hist = model.fit(X_train, y_train, epochs = 20, batch_size = 32, verbose=2)\n"
      ],
      "metadata": {
        "colab": {
          "base_uri": "https://localhost:8080/"
        },
        "id": "fYbGhqrdYd_4",
        "outputId": "4ac00315-1381-4597-f64c-cc1a37a70d77"
      },
      "execution_count": 21,
      "outputs": [
        {
          "output_type": "stream",
          "name": "stdout",
          "text": [
            "Epoch 1/20\n",
            "35/35 - 11s - loss: 0.0550 - 11s/epoch - 321ms/step\n",
            "Epoch 2/20\n",
            "35/35 - 5s - loss: 0.0137 - 5s/epoch - 152ms/step\n",
            "Epoch 3/20\n",
            "35/35 - 5s - loss: 0.0109 - 5s/epoch - 136ms/step\n",
            "Epoch 4/20\n",
            "35/35 - 5s - loss: 0.0096 - 5s/epoch - 154ms/step\n",
            "Epoch 5/20\n",
            "35/35 - 5s - loss: 0.0082 - 5s/epoch - 135ms/step\n",
            "Epoch 6/20\n",
            "35/35 - 5s - loss: 0.0074 - 5s/epoch - 147ms/step\n",
            "Epoch 7/20\n",
            "35/35 - 5s - loss: 0.0068 - 5s/epoch - 142ms/step\n",
            "Epoch 8/20\n",
            "35/35 - 5s - loss: 0.0070 - 5s/epoch - 137ms/step\n",
            "Epoch 9/20\n",
            "35/35 - 7s - loss: 0.0074 - 7s/epoch - 205ms/step\n",
            "Epoch 10/20\n",
            "35/35 - 5s - loss: 0.0070 - 5s/epoch - 149ms/step\n",
            "Epoch 11/20\n",
            "35/35 - 5s - loss: 0.0063 - 5s/epoch - 152ms/step\n",
            "Epoch 12/20\n",
            "35/35 - 5s - loss: 0.0066 - 5s/epoch - 135ms/step\n",
            "Epoch 13/20\n",
            "35/35 - 5s - loss: 0.0064 - 5s/epoch - 156ms/step\n",
            "Epoch 14/20\n",
            "35/35 - 5s - loss: 0.0061 - 5s/epoch - 134ms/step\n",
            "Epoch 15/20\n",
            "35/35 - 6s - loss: 0.0063 - 6s/epoch - 159ms/step\n",
            "Epoch 16/20\n",
            "35/35 - 5s - loss: 0.0064 - 5s/epoch - 135ms/step\n",
            "Epoch 17/20\n",
            "35/35 - 8s - loss: 0.0096 - 8s/epoch - 214ms/step\n",
            "Epoch 18/20\n",
            "35/35 - 11s - loss: 0.0059 - 11s/epoch - 303ms/step\n",
            "Epoch 19/20\n",
            "35/35 - 5s - loss: 0.0053 - 5s/epoch - 143ms/step\n",
            "Epoch 20/20\n",
            "35/35 - 5s - loss: 0.0048 - 5s/epoch - 139ms/step\n"
          ]
        }
      ]
    },
    {
      "cell_type": "code",
      "source": [
        "plt.plot(hist.history['loss'])\n",
        "plt.title('Training model loss')\n",
        "plt.ylabel('loss')\n",
        "plt.xlabel('epoch')\n",
        "plt.legend(['train'], loc='upper left')\n",
        "plt.show()"
      ],
      "metadata": {
        "colab": {
          "base_uri": "https://localhost:8080/",
          "height": 472
        },
        "id": "Vpr2-oxVYeBx",
        "outputId": "e7d0a53a-d04a-411f-fe87-635ef5d7adcf"
      },
      "execution_count": 22,
      "outputs": [
        {
          "output_type": "display_data",
          "data": {
            "text/plain": [
              "<Figure size 640x480 with 1 Axes>"
            ],
            "image/png": "[encoded data removed]"
          },
          "metadata": {}
        }
      ]
    },
    {
      "cell_type": "code",
      "source": [
        "testData = pd.read_csv('/content/Google_test_data.csv')\n",
        "testData[\"Close\"]=pd.to_numeric(testData.Close,errors='coerce')\n",
        "testData = testData.dropna()\n",
        "testData = testData.iloc[:,4:5]\n",
        "y_test = testData.iloc[60:,0:].values\n",
        "#input array for the model\n",
        "inputClosing = testData.iloc[:,0:].values\n",
        "inputClosing_scaled = sc.transform(inputClosing)\n",
        "inputClosing_scaled.shape\n",
        "X_test = []\n",
        "length = len(testData)\n",
        "timestep = 60\n",
        "for i in range(timestep,length):\n",
        "  X_test.append(inputClosing_scaled[i-timestep:i,0])\n",
        "X_test = np.array(X_test)\n",
        "X_test = np.reshape(X_test,(X_test.shape[0],X_test.shape[1],1))\n",
        "X_test.shape"
      ],
      "metadata": {
        "colab": {
          "base_uri": "https://localhost:8080/"
        },
        "id": "T5APBfa_YeEM",
        "outputId": "0ecf303b-bee0-4f1b-e301-12ae40bdf8f9"
      },
      "execution_count": 24,
      "outputs": [
        {
          "output_type": "execute_result",
          "data": {
            "text/plain": [
              "(192, 60, 1)"
            ]
          },
          "metadata": {},
          "execution_count": 24
        }
      ]
    },
    {
      "cell_type": "code",
      "source": [
        "y_pred = model.predict(X_test)\n",
        "y_pred"
      ],
      "metadata": {
        "colab": {
          "base_uri": "https://localhost:8080/"
        },
        "id": "caDd3iFNYeGZ",
        "outputId": "c73aa4aa-26a2-4f66-f4df-194f85b9cc73"
      },
      "execution_count": 25,
      "outputs": [
        {
          "output_type": "stream",
          "name": "stdout",
          "text": [
            "6/6 [==============================] - 2s 43ms/step\n"
          ]
        },
        {
          "output_type": "execute_result",
          "data": {
            "text/plain": [
              "array([[1.17313  ],\n",
              "       [1.175729 ],\n",
              "       [1.1861206],\n",
              "       [1.202448 ],\n",
              "       [1.2174529],\n",
              "       [1.2217454],\n",
              "       [1.2137909],\n",
              "       [1.1989778],\n",
              "       [1.1869433],\n",
              "       [1.1810986],\n",
              "       [1.1731638],\n",
              "       [1.1617986],\n",
              "       [1.151005 ],\n",
              "       [1.140857 ],\n",
              "       [1.1367446],\n",
              "       [1.1389613],\n",
              "       [1.1535074],\n",
              "       [1.1788015],\n",
              "       [1.209977 ],\n",
              "       [1.2428921],\n",
              "       [1.2616756],\n",
              "       [1.2655343],\n",
              "       [1.2520999],\n",
              "       [1.2270259],\n",
              "       [1.2004099],\n",
              "       [1.1811392],\n",
              "       [1.1716745],\n",
              "       [1.1668724],\n",
              "       [1.1586398],\n",
              "       [1.1479237],\n",
              "       [1.1362262],\n",
              "       [1.1231155],\n",
              "       [1.1043985],\n",
              "       [1.0809766],\n",
              "       [1.0685545],\n",
              "       [1.0731577],\n",
              "       [1.0908245],\n",
              "       [1.1143067],\n",
              "       [1.1390197],\n",
              "       [1.1555002],\n",
              "       [1.1709511],\n",
              "       [1.1875125],\n",
              "       [1.2055056],\n",
              "       [1.2224281],\n",
              "       [1.2348913],\n",
              "       [1.2388691],\n",
              "       [1.2321268],\n",
              "       [1.2236294],\n",
              "       [1.2189659],\n",
              "       [1.2210226],\n",
              "       [1.2301142],\n",
              "       [1.2378088],\n",
              "       [1.2411853],\n",
              "       [1.2398828],\n",
              "       [1.2387373],\n",
              "       [1.2356001],\n",
              "       [1.2283207],\n",
              "       [1.2235177],\n",
              "       [1.2291402],\n",
              "       [1.2436551],\n",
              "       [1.2666205],\n",
              "       [1.2959214],\n",
              "       [1.3198832],\n",
              "       [1.3296618],\n",
              "       [1.32444  ],\n",
              "       [1.3089392],\n",
              "       [1.2947986],\n",
              "       [1.2868903],\n",
              "       [1.2858151],\n",
              "       [1.2879269],\n",
              "       [1.2915864],\n",
              "       [1.2944995],\n",
              "       [1.292341 ],\n",
              "       [1.2879965],\n",
              "       [1.2836341],\n",
              "       [1.2816784],\n",
              "       [1.282694 ],\n",
              "       [1.2866739],\n",
              "       [1.2967108],\n",
              "       [1.3127265],\n",
              "       [1.3342439],\n",
              "       [1.3564388],\n",
              "       [1.3719288],\n",
              "       [1.3781246],\n",
              "       [1.3833549],\n",
              "       [1.3941127],\n",
              "       [1.409619 ],\n",
              "       [1.4243617],\n",
              "       [1.4344501],\n",
              "       [1.4386438],\n",
              "       [1.4409134],\n",
              "       [1.4483398],\n",
              "       [1.4623727],\n",
              "       [1.4737508],\n",
              "       [1.4756489],\n",
              "       [1.4664547],\n",
              "       [1.4473922],\n",
              "       [1.4228495],\n",
              "       [1.3996112],\n",
              "       [1.3867295],\n",
              "       [1.386855 ],\n",
              "       [1.3980625],\n",
              "       [1.417169 ],\n",
              "       [1.4370832],\n",
              "       [1.4524295],\n",
              "       [1.4598861],\n",
              "       [1.4612045],\n",
              "       [1.4593488],\n",
              "       [1.4593701],\n",
              "       [1.462939 ],\n",
              "       [1.4702257],\n",
              "       [1.4812027],\n",
              "       [1.4933702],\n",
              "       [1.506848 ],\n",
              "       [1.5232301],\n",
              "       [1.5381852],\n",
              "       [1.5504789],\n",
              "       [1.5609636],\n",
              "       [1.5726084],\n",
              "       [1.5611587],\n",
              "       [1.5220318],\n",
              "       [1.465689 ],\n",
              "       [1.4126766],\n",
              "       [1.3754457],\n",
              "       [1.3537602],\n",
              "       [1.3433925],\n",
              "       [1.3401263],\n",
              "       [1.341836 ],\n",
              "       [1.3397897],\n",
              "       [1.3302983],\n",
              "       [1.3255154],\n",
              "       [1.3328081],\n",
              "       [1.3470724],\n",
              "       [1.3578072],\n",
              "       [1.3636285],\n",
              "       [1.3657681],\n",
              "       [1.3634812],\n",
              "       [1.356457 ],\n",
              "       [1.3468157],\n",
              "       [1.3332791],\n",
              "       [1.3181149],\n",
              "       [1.3011551],\n",
              "       [1.2702976],\n",
              "       [1.2316104],\n",
              "       [1.191722 ],\n",
              "       [1.1579303],\n",
              "       [1.1389407],\n",
              "       [1.13883  ],\n",
              "       [1.153837 ],\n",
              "       [1.1767361],\n",
              "       [1.2030362],\n",
              "       [1.2275327],\n",
              "       [1.2481925],\n",
              "       [1.265876 ],\n",
              "       [1.2799679],\n",
              "       [1.29156  ],\n",
              "       [1.3025974],\n",
              "       [1.3113769],\n",
              "       [1.3107015],\n",
              "       [1.298889 ],\n",
              "       [1.2788079],\n",
              "       [1.2567576],\n",
              "       [1.2410914],\n",
              "       [1.2371571],\n",
              "       [1.2458827],\n",
              "       [1.2650424],\n",
              "       [1.2858714],\n",
              "       [1.3042637],\n",
              "       [1.3211046],\n",
              "       [1.3365263],\n",
              "       [1.349531 ],\n",
              "       [1.3600988],\n",
              "       [1.3683687],\n",
              "       [1.3724705],\n",
              "       [1.3722408],\n",
              "       [1.3652492],\n",
              "       [1.354779 ],\n",
              "       [1.3457574],\n",
              "       [1.3385024],\n",
              "       [1.3318809],\n",
              "       [1.3509649],\n",
              "       [1.3932571],\n",
              "       [1.4427847],\n",
              "       [1.4842083],\n",
              "       [1.5086443],\n",
              "       [1.5124632],\n",
              "       [1.4908729],\n",
              "       [1.4560404],\n",
              "       [1.4205259],\n",
              "       [1.3990409],\n",
              "       [1.3904531],\n",
              "       [1.3879522]], dtype=float32)"
            ]
          },
          "metadata": {},
          "execution_count": 25
        }
      ]
    },
    {
      "cell_type": "code",
      "source": [
        " predicted_price = sc.inverse_transform(y_pred)\n"
      ],
      "metadata": {
        "id": "FTwDh8R_YeI6"
      },
      "execution_count": 26,
      "outputs": []
    },
    {
      "cell_type": "code",
      "source": [
        " plt.plot(y_test, color = 'red', label = 'Actual Stock Price')\n",
        "plt.plot(predicted_price, color = 'green', label = 'Predicted Stock Price')\n",
        "plt.title('Google stock price prediction')\n",
        "plt.xlabel('Time')\n",
        "plt.ylabel('Stock Price')\n",
        "plt.legend()\n",
        "plt.show()\n"
      ],
      "metadata": {
        "colab": {
          "base_uri": "https://localhost:8080/",
          "height": 472
        },
        "id": "FN4Dm8HaYeLd",
        "outputId": "2743e26a-8113-40ba-e42e-df9602c97856"
      },
      "execution_count": 27,
      "outputs": [
        {
          "output_type": "display_data",
          "data": {
            "text/plain": [
              "<Figure size 640x480 with 1 Axes>"
            ],
            "image/png": "[encoded data removed]"
          },
          "metadata": {}
        }
      ]
    },
    {
      "cell_type": "code",
      "source": [],
      "metadata": {
        "id": "UUS50CdLYeOB"
      },
      "execution_count": null,
      "outputs": []
    },
    {
      "cell_type": "code",
      "source": [],
      "metadata": {
        "id": "zxTzjwsRYeRB"
      },
      "execution_count": null,
      "outputs": []
    },
    {
      "cell_type": "code",
      "source": [],
      "metadata": {
        "id": "IpDcpgAuYeTf"
      },
      "execution_count": null,
      "outputs": []
    },
    {
      "cell_type": "code",
      "source": [
        "df.fillna(df.mean(), inplace=True)"
      ],
      "metadata": {
        "colab": {
          "base_uri": "https://localhost:8080/"
        },
        "id": "_uspnSVeg4bO",
        "outputId": "21647504-aa19-4b4e-d130-ae97436080aa"
      },
      "execution_count": 38,
      "outputs": [
        {
          "output_type": "stream",
          "name": "stderr",
          "text": [
            "<ipython-input-38-bf934754a5b1>:1: FutureWarning:\n",
            "\n",
            "The default value of numeric_only in DataFrame.mean is deprecated. In a future version, it will default to False. In addition, specifying 'numeric_only=None' is deprecated. Select only valid columns or specify the value of numeric_only to silence this warning.\n",
            "\n"
          ]
        }
      ]
    },
    {
      "cell_type": "code",
      "source": [
        "df['Date'] = pd.to_datetime(df['Date'])"
      ],
      "metadata": {
        "id": "kVZ7MKB_hKYW"
      },
      "execution_count": 39,
      "outputs": []
    },
    {
      "cell_type": "code",
      "source": [
        "df.sort_values(by='Date', inplace=True)"
      ],
      "metadata": {
        "id": "Wjwnz5T8k0qf"
      },
      "execution_count": 48,
      "outputs": []
    },
    {
      "cell_type": "code",
      "source": [
        "plt.figure(figsize=(12, 6))\n",
        "plt.plot(df['Date'], df['Close'], label='Closing Price', color='blue')\n",
        "plt.title('TCS Stock Price Over Time')\n",
        "plt.xlabel('Date')\n",
        "plt.ylabel('Closing Price')\n",
        "plt.legend()\n",
        "plt.grid(True)\n",
        "plt.show()"
      ],
      "metadata": {
        "colab": {
          "base_uri": "https://localhost:8080/",
          "height": 564
        },
        "id": "E47FkQBnhc-M",
        "outputId": "b5f0e212-39a4-4936-9758-75b116c53dc6"
      },
      "execution_count": 49,
      "outputs": [
        {
          "output_type": "display_data",
          "data": {
            "text/plain": [
              "<Figure size 1200x600 with 1 Axes>"
            ],
            "image/png": "[encoded data removed]"
          },
          "metadata": {}
        }
      ]
    },
    {
      "cell_type": "markdown",
      "source": [
        "#Data Preprocessing"
      ],
      "metadata": {
        "id": "5ph1yoC_iRQP"
      }
    },
    {
      "cell_type": "code",
      "source": [
        "# Normalize or scale the numerical features using Min-Max scaling\n",
        "scaler = MinMaxScaler()\n",
        "scaled_features = ['Open', 'High', 'Low', 'Close', 'Volume']\n",
        "df[scaled_features] = scaler.fit_transform(df[scaled_features])"
      ],
      "metadata": {
        "id": "_KswGTHuk9tc"
      },
      "execution_count": 50,
      "outputs": []
    },
    {
      "cell_type": "code",
      "source": [
        "from sklearn.preprocessing import MinMaxScaler\n",
        "\n",
        "features_to_scale = ['Open', 'High', 'Low', 'Close', 'Volume']\n",
        "\n",
        "scaler = MinMaxScaler()\n",
        "df[features_to_scale] = scaler.fit_transform(df[features_to_scale])\n",
        "train_size = int(0.7 * len(df))\n",
        "val_size = int(0.15 * len(df))\n",
        "test_size = len(df) - train_size - val_size\n",
        " X_train, y_train = X[:train_size], y[:train_size]\n",
        "X_val, y_val = X[train_size:train_size+val_size], y[train_size:train_size+val_size]\n",
        "\n",
        "train_data = df[:train_size]\n",
        "val_data = df[train_size:train_size + val_size]\n",
        "test_data = df[train_size + val_size:]\n",
        "train_data.reset_index(drop=True, inplace=True)\n",
        "val_data.reset_index(drop=True, inplace=True)\n",
        "test_data.reset_index(drop=True, inplace=True)\n"
      ],
      "metadata": {
        "colab": {
          "base_uri": "https://localhost:8080/",
          "height": 141
        },
        "id": "DVEfCIFXiY4n",
        "outputId": "157d9b2a-85b1-4eb5-a5ef-ebbecb986839"
      },
      "execution_count": 60,
      "outputs": [
        {
          "output_type": "error",
          "ename": "IndentationError",
          "evalue": "ignored",
          "traceback": [
            "\u001b[0;36m  File \u001b[0;32m\"<ipython-input-60-7d84ebeb98e3>\"\u001b[0;36m, line \u001b[0;32m10\u001b[0m\n\u001b[0;31m    X_train, y_train = X[:train_size], y[:train_size]\u001b[0m\n\u001b[0m    ^\u001b[0m\n\u001b[0;31mIndentationError\u001b[0m\u001b[0;31m:\u001b[0m unexpected indent\n"
          ]
        }
      ]
    },
    {
      "cell_type": "markdown",
      "source": [
        "#Create Sequences for LSTM"
      ],
      "metadata": {
        "id": "m5k8TqkljMcV"
      }
    },
    {
      "cell_type": "code",
      "source": [
        "# Define the sequence length (e.g., 30 days of historical data)\n",
        "sequence_length = 30\n",
        "\n",
        "# Create sequences for LSTM\n",
        "X = []\n",
        "y = []\n",
        "\n",
        "# Iterate through the dataset\n",
        "for i in range(len(df) - sequence_length):\n",
        "    # Extract a sequence of historical data (input)\n",
        "    x_seq = df.iloc[i:i + sequence_length][scaled_features].values\n",
        "\n",
        "    # Extract the corresponding next day's closing price (output)\n",
        "    y_seq = df.iloc[i + sequence_length]['Close']\n",
        "\n",
        "    X.append(x_seq)\n",
        "    y.append(y_seq)\n",
        "\n",
        "# Convert the lists to numpy arrays\n",
        "X = np.array(X)\n",
        "y = np.array(y)\n",
        "\n",
        "# Print the shapes to verify\n",
        "print(\"Input sequences shape:\", X.shape)\n",
        "print(\"Output sequences shape:\", y.shape)\n"
      ],
      "metadata": {
        "colab": {
          "base_uri": "https://localhost:8080/"
        },
        "id": "tOzHpwnsjO7z",
        "outputId": "66363201-b92a-4780-c2b0-4af3cc949f12"
      },
      "execution_count": 56,
      "outputs": [
        {
          "output_type": "stream",
          "name": "stdout",
          "text": [
            "Input sequences shape: (4433, 30, 5)\n",
            "Output sequences shape: (4433,)\n"
          ]
        }
      ]
    },
    {
      "cell_type": "markdown",
      "source": [
        "#Build the LSTM Model"
      ],
      "metadata": {
        "id": "-EAqRDFdmv-r"
      }
    },
    {
      "cell_type": "code",
      "source": [
        "# Import Keras libraries\n",
        "from keras.models import Sequential\n",
        "from keras.layers import LSTM, Dense\n",
        "\n",
        "# Define the LSTM model\n",
        "model = Sequential()\n",
        "\n",
        "# Add LSTM layers (you can customize the number of units and layers)\n",
        "model.add(LSTM(units=50, return_sequences=True, input_shape=(sequence_length, len(scaled_features))))\n",
        "model.add(LSTM(units=50))\n",
        "model.add(Dense(units=1))  # Output layer with one neuron (for predicting the next day's closing price)\n",
        "\n",
        "# Compile the model\n",
        "model.compile(optimizer='adam', loss='mean_squared_error')\n",
        "\n",
        "# Print a summary of the model architecture\n",
        "model.summary()\n"
      ],
      "metadata": {
        "colab": {
          "base_uri": "https://localhost:8080/"
        },
        "id": "t58bgnV9mgfZ",
        "outputId": "338c5e67-d16b-4ea4-b9ce-83c30fa94033"
      },
      "execution_count": 58,
      "outputs": [
        {
          "output_type": "stream",
          "name": "stdout",
          "text": [
            "Model: \"sequential\"\n",
            "_________________________________________________________________\n",
            " Layer (type)                Output Shape              Param #   \n",
            "=================================================================\n",
            " lstm (LSTM)                 (None, 30, 50)            11200     \n",
            "                                                                 \n",
            " lstm_1 (LSTM)               (None, 50)                20200     \n",
            "                                                                 \n",
            " dense (Dense)               (None, 1)                 51        \n",
            "                                                                 \n",
            "=================================================================\n",
            "Total params: 31,451\n",
            "Trainable params: 31,451\n",
            "Non-trainable params: 0\n",
            "_________________________________________________________________\n"
          ]
        }
      ]
    },
    {
      "cell_type": "markdown",
      "source": [
        "#Train the Model"
      ],
      "metadata": {
        "id": "NLBeGEdenEFr"
      }
    },
    {
      "cell_type": "code",
      "source": [
        "# Import additional Keras libraries for training\n",
        "from keras.callbacks import EarlyStopping\n",
        "\n",
        "# Define the number of epochs (you can adjust this)\n",
        "epochs = 100\n",
        "\n",
        "# Define the batch size for training\n",
        "batch_size = 32\n",
        "\n",
        "# Define early stopping to prevent overfitting\n",
        "early_stopping = EarlyStopping(monitor='val_loss', patience=10, restore_best_weights=True)\n",
        "\n",
        "# Train the model\n",
        "history = model.fit(\n",
        "    X_train, y_train,\n",
        "    epochs=epochs,\n",
        "    batch_size=batch_size,\n",
        "    validation_data=(X_val, y_val),\n",
        "    callbacks=[early_stopping],\n",
        "    verbose=1\n",
        ")\n",
        "\n",
        "# Plot training and validation loss\n",
        "import matplotlib.pyplot as plt\n",
        "\n",
        "plt.plot(history.history['loss'], label='Training Loss')\n",
        "plt.plot(history.history['val_loss'], label='Validation Loss')\n",
        "plt.xlabel('Epochs')\n",
        "plt.ylabel('Loss')\n",
        "plt.legend()\n",
        "plt.show()\n"
      ],
      "metadata": {
        "colab": {
          "base_uri": "https://localhost:8080/",
          "height": 245
        },
        "id": "Lr8JQF_3mgh8",
        "outputId": "75f97f88-da46-4d0c-858c-bf505acf6491"
      },
      "execution_count": 59,
      "outputs": [
        {
          "output_type": "error",
          "ename": "NameError",
          "evalue": "ignored",
          "traceback": [
            "\u001b[0;31m---------------------------------------------------------------------------\u001b[0m",
            "\u001b[0;31mNameError\u001b[0m                                 Traceback (most recent call last)",
            "\u001b[0;32m<ipython-input-59-4a301d016187>\u001b[0m in \u001b[0;36m<cell line: 14>\u001b[0;34m()\u001b[0m\n\u001b[1;32m     16\u001b[0m     \u001b[0mepochs\u001b[0m\u001b[0;34m=\u001b[0m\u001b[0mepochs\u001b[0m\u001b[0;34m,\u001b[0m\u001b[0;34m\u001b[0m\u001b[0;34m\u001b[0m\u001b[0m\n\u001b[1;32m     17\u001b[0m     \u001b[0mbatch_size\u001b[0m\u001b[0;34m=\u001b[0m\u001b[0mbatch_size\u001b[0m\u001b[0;34m,\u001b[0m\u001b[0;34m\u001b[0m\u001b[0;34m\u001b[0m\u001b[0m\n\u001b[0;32m---> 18\u001b[0;31m     \u001b[0mvalidation_data\u001b[0m\u001b[0;34m=\u001b[0m\u001b[0;34m(\u001b[0m\u001b[0mX_val\u001b[0m\u001b[0;34m,\u001b[0m \u001b[0my_val\u001b[0m\u001b[0;34m)\u001b[0m\u001b[0;34m,\u001b[0m\u001b[0;34m\u001b[0m\u001b[0;34m\u001b[0m\u001b[0m\n\u001b[0m\u001b[1;32m     19\u001b[0m     \u001b[0mcallbacks\u001b[0m\u001b[0;34m=\u001b[0m\u001b[0;34m[\u001b[0m\u001b[0mearly_stopping\u001b[0m\u001b[0;34m]\u001b[0m\u001b[0;34m,\u001b[0m\u001b[0;34m\u001b[0m\u001b[0;34m\u001b[0m\u001b[0m\n\u001b[1;32m     20\u001b[0m     \u001b[0mverbose\u001b[0m\u001b[0;34m=\u001b[0m\u001b[0;36m1\u001b[0m\u001b[0;34m\u001b[0m\u001b[0;34m\u001b[0m\u001b[0m\n",
            "\u001b[0;31mNameError\u001b[0m: name 'X_val' is not defined"
          ]
        }
      ]
    },
    {
      "cell_type": "code",
      "source": [],
      "metadata": {
        "id": "o4Etv0BSmgkR"
      },
      "execution_count": null,
      "outputs": []
    },
    {
      "cell_type": "code",
      "source": [],
      "metadata": {
        "id": "bnUKonlOmgmy"
      },
      "execution_count": null,
      "outputs": []
    },
    {
      "cell_type": "code",
      "source": [],
      "metadata": {
        "id": "WZSkWpVomgqW"
      },
      "execution_count": null,
      "outputs": []
    },
    {
      "cell_type": "code",
      "source": [
        "import matplotlib.pyplot as plt\n",
        "plt.plot(df1)"
      ],
      "metadata": {
        "colab": {
          "base_uri": "https://localhost:8080/",
          "height": 449
        },
        "id": "9Y85cWNABrOM",
        "outputId": "4103ddd7-837a-45e8-d3af-442d1c86fad7"
      },
      "execution_count": 12,
      "outputs": [
        {
          "output_type": "execute_result",
          "data": {
            "text/plain": [
              "[<matplotlib.lines.Line2D at 0x799d2fa86140>]"
            ]
          },
          "metadata": {},
          "execution_count": 12
        },
        {
          "output_type": "display_data",
          "data": {
            "text/plain": [
              "<Figure size 640x480 with 1 Axes>"
            ],
            "image/png": "[encoded data removed]"
          },
          "metadata": {}
        }
      ]
    },
    {
      "cell_type": "code",
      "source": [],
      "metadata": {
        "id": "EuTrZfYEiV6P"
      },
      "execution_count": null,
      "outputs": []
    },
    {
      "cell_type": "markdown",
      "source": [
        "#lstm"
      ],
      "metadata": {
        "id": "HevQVmoTCGsY"
      }
    },
    {
      "cell_type": "code",
      "source": [
        "from sklearn.preprocessing import MinMaxScaler\n",
        "scaler=MinMaxScaler(feature_range=(0,1))\n",
        "df1=scaler.fit_transform(np.array(df1).reshape(-1,1))"
      ],
      "metadata": {
        "id": "qUVJ93gKB7De"
      },
      "execution_count": 13,
      "outputs": []
    },
    {
      "cell_type": "code",
      "source": [
        "print(df1)"
      ],
      "metadata": {
        "colab": {
          "base_uri": "https://localhost:8080/"
        },
        "id": "GAaQLfyfaSz-",
        "outputId": "a047f39b-9014-4ffc-c68b-b4290938d8ba"
      },
      "execution_count": 14,
      "outputs": [
        {
          "output_type": "stream",
          "name": "stdout",
          "text": [
            "[[0.83116024]\n",
            " [0.8539312 ]\n",
            " [0.76490251]\n",
            " [0.73956202]\n",
            " [0.72180113]\n",
            " [0.74367311]\n",
            " [0.72392098]\n",
            " [0.74225975]\n",
            " [0.73599706]\n",
            " [0.78504003]\n",
            " [0.85303182]\n",
            " [0.81876306]\n",
            " [0.87705579]\n",
            " [0.84436034]\n",
            " [0.77713894]\n",
            " [0.70908286]\n",
            " [0.67529554]\n",
            " [0.6269912 ]\n",
            " [0.6057618 ]\n",
            " [0.60515176]\n",
            " [0.6460047 ]\n",
            " [0.59930622]\n",
            " [0.63948482]\n",
            " [0.63049225]\n",
            " [0.57756323]\n",
            " [0.59416755]\n",
            " [0.62586718]\n",
            " [0.67654816]\n",
            " [0.6098086 ]\n",
            " [0.63318998]\n",
            " [0.66941824]\n",
            " [0.65605739]\n",
            " [0.70150326]\n",
            " [0.69774541]\n",
            " [0.70365525]\n",
            " [0.71907125]\n",
            " [0.72819242]\n",
            " [0.61655312]\n",
            " [0.58173822]\n",
            " [0.55482402]\n",
            " [0.52222502]\n",
            " [0.33723023]\n",
            " [0.33112789]\n",
            " [0.42992032]\n",
            " [0.37265556]\n",
            " [0.46589178]\n",
            " [0.447938  ]\n",
            " [0.35890932]\n",
            " [0.38617676]\n",
            " [0.40127206]\n",
            " [0.40939741]\n",
            " [0.23924073]\n",
            " [0.38331828]\n",
            " [0.305916  ]\n",
            " [0.14086603]\n",
            " [0.19267084]\n",
            " [0.32293825]\n",
            " [0.30119487]\n",
            " [0.26197993]\n",
            " [0.20513232]\n",
            " [0.2556208 ]\n",
            " [0.37631696]\n",
            " [0.34102023]\n",
            " [0.28882983]\n",
            " [0.20044334]\n",
            " [0.19215725]\n",
            " [0.21659836]\n",
            " [0.28420476]\n",
            " [0.27386313]\n",
            " [0.14060904]\n",
            " [0.15910856]\n",
            " [0.19716732]\n",
            " [0.15307052]\n",
            " [0.23252835]\n",
            " [0.21900715]\n",
            " [0.35332096]\n",
            " [0.35996944]\n",
            " [0.37965727]\n",
            " [0.41819787]\n",
            " [0.23959397]\n",
            " [0.29711592]\n",
            " [0.19385916]\n",
            " [0.20339826]\n",
            " [0.24258104]\n",
            " [0.28089699]\n",
            " [0.27518004]\n",
            " [0.2115879 ]\n",
            " [0.12946448]\n",
            " [0.16858297]\n",
            " [0.15027634]\n",
            " [0.10659688]\n",
            " [0.01066292]\n",
            " [0.        ]\n",
            " [0.20310892]\n",
            " [0.21730485]\n",
            " [0.19546502]\n",
            " [0.19074389]\n",
            " [0.22363184]\n",
            " [0.12795487]\n",
            " [0.30347506]\n",
            " [0.29602405]\n",
            " [0.32136454]\n",
            " [0.31616157]\n",
            " [0.30225459]\n",
            " [0.26005259]\n",
            " [0.21990613]\n",
            " [0.32415872]\n",
            " [0.3364273 ]\n",
            " [0.3651081 ]\n",
            " [0.39195801]\n",
            " [0.30286502]\n",
            " [0.31908395]\n",
            " [0.31372064]\n",
            " [0.36860876]\n",
            " [0.30145166]\n",
            " [0.27106895]\n",
            " [0.36241037]\n",
            " [0.45012214]\n",
            " [0.43207231]\n",
            " [0.50289082]\n",
            " [0.54525317]\n",
            " [0.44646074]\n",
            " [0.39340312]\n",
            " [0.38168067]\n",
            " [0.38151993]\n",
            " [0.46618073]\n",
            " [0.46229467]\n",
            " [0.4671444 ]\n",
            " [0.44138637]\n",
            " [0.45715601]\n",
            " [0.44186821]\n",
            " [0.38781477]\n",
            " [0.43085185]\n",
            " [0.42773657]\n",
            " [0.44613965]\n",
            " [0.44909457]\n",
            " [0.46152389]\n",
            " [0.52919459]\n",
            " [0.55106657]\n",
            " [0.59676923]\n",
            " [0.58337623]\n",
            " [0.53661384]\n",
            " [0.53346603]\n",
            " [0.64086603]\n",
            " [0.69687818]\n",
            " [0.69726357]\n",
            " [0.67230886]\n",
            " [0.66880781]\n",
            " [0.66816563]\n",
            " [0.71502446]\n",
            " [0.79570276]\n",
            " [0.82001567]\n",
            " [0.73638245]\n",
            " [0.696236  ]\n",
            " [0.66932179]\n",
            " [0.63206596]\n",
            " [0.61751679]\n",
            " [0.63299749]\n",
            " [0.70082892]\n",
            " [0.72029172]\n",
            " [0.73773151]\n",
            " [0.76689376]\n",
            " [0.74168186]\n",
            " [0.73105089]\n",
            " [0.70988579]\n",
            " [0.72565543]\n",
            " [0.73355612]\n",
            " [0.77611137]\n",
            " [0.78648515]\n",
            " [0.8058519 ]\n",
            " [0.83543168]\n",
            " [0.83552812]\n",
            " [0.87557814]\n",
            " [0.92603447]\n",
            " [0.89857413]\n",
            " [0.92250126]\n",
            " [0.95053988]\n",
            " [1.        ]\n",
            " [0.68171897]\n",
            " [0.61619988]\n",
            " [0.59863188]\n",
            " [0.67182703]\n",
            " [0.68464175]\n",
            " [0.63553448]\n",
            " [0.61038688]\n",
            " [0.59789325]\n",
            " [0.60396344]\n",
            " [0.50041773]\n",
            " [0.46319366]\n",
            " [0.60377055]\n",
            " [0.65120767]\n",
            " [0.59763646]\n",
            " [0.52232147]\n",
            " [0.55694387]\n",
            " [0.56269296]\n",
            " [0.52848811]\n",
            " [0.50504242]\n",
            " [0.50722656]\n",
            " [0.45041109]\n",
            " [0.45519651]\n",
            " [0.40920491]\n",
            " [0.19273514]\n",
            " [0.24675643]\n",
            " [0.21197329]\n",
            " [0.21878211]\n",
            " [0.28847659]\n",
            " [0.3345325 ]\n",
            " [0.32920094]\n",
            " [0.32377333]\n",
            " [0.36147885]\n",
            " [0.35049464]\n",
            " [0.37345849]\n",
            " [0.40910846]\n",
            " [0.40502952]\n",
            " [0.4342243 ]\n",
            " [0.46781873]\n",
            " [0.44739227]\n",
            " [0.35370635]\n",
            " [0.33266985]\n",
            " [0.32049731]\n",
            " [0.3362348 ]\n",
            " [0.39096218]\n",
            " [0.43367817]\n",
            " [0.46685506]\n",
            " [0.49900438]\n",
            " [0.45005785]\n",
            " [0.47729314]\n",
            " [0.52755658]\n",
            " [0.53953622]\n",
            " [0.54175251]\n",
            " [0.55922406]\n",
            " [0.56962999]\n",
            " [0.54640934]\n",
            " [0.54634504]\n",
            " [0.49421895]\n",
            " [0.51981623]\n",
            " [0.54595966]\n",
            " [0.51898155]\n",
            " [0.50070668]\n",
            " [0.88062075]\n",
            " [0.84529187]\n",
            " [0.79946061]\n",
            " [0.77228962]\n",
            " [0.74765561]\n",
            " [0.69941556]\n",
            " [0.56558319]\n",
            " [0.62220577]\n",
            " [0.63518123]\n",
            " [0.73413441]\n",
            " [0.68020956]\n",
            " [0.63749358]\n",
            " [0.70995009]]\n"
          ]
        }
      ]
    },
    {
      "cell_type": "markdown",
      "source": [
        "#Spillting the data"
      ],
      "metadata": {
        "id": "mW2qhu22asAx"
      }
    },
    {
      "cell_type": "code",
      "source": [
        "training_size=int(len(df1)*0.65)\n",
        "test_size=len(df1)-training_size\n",
        "train_data,test_data=df1[0:training_size,:],df1[training_size:len(df1),:1]"
      ],
      "metadata": {
        "id": "yWOrN73OaZ4n"
      },
      "execution_count": 16,
      "outputs": []
    },
    {
      "cell_type": "code",
      "source": [
        "training_size,test_size"
      ],
      "metadata": {
        "colab": {
          "base_uri": "https://localhost:8080/"
        },
        "id": "TxYi8KYza3gO",
        "outputId": "146bff6b-30c8-4c6a-e509-4bd4b2386c60"
      },
      "execution_count": 17,
      "outputs": [
        {
          "output_type": "execute_result",
          "data": {
            "text/plain": [
              "(163, 89)"
            ]
          },
          "metadata": {},
          "execution_count": 17
        }
      ]
    },
    {
      "cell_type": "code",
      "source": [
        "train_data"
      ],
      "metadata": {
        "colab": {
          "base_uri": "https://localhost:8080/"
        },
        "id": "OgNgPrTKa3if",
        "outputId": "ede7117b-5b20-4b1b-ffd3-44d97cf49544"
      },
      "execution_count": 18,
      "outputs": [
        {
          "output_type": "execute_result",
          "data": {
            "text/plain": [
              "array([[0.83116024],\n",
              "       [0.8539312 ],\n",
              "       [0.76490251],\n",
              "       [0.73956202],\n",
              "       [0.72180113],\n",
              "       [0.74367311],\n",
              "       [0.72392098],\n",
              "       [0.74225975],\n",
              "       [0.73599706],\n",
              "       [0.78504003],\n",
              "       [0.85303182],\n",
              "       [0.81876306],\n",
              "       [0.87705579],\n",
              "       [0.84436034],\n",
              "       [0.77713894],\n",
              "       [0.70908286],\n",
              "       [0.67529554],\n",
              "       [0.6269912 ],\n",
              "       [0.6057618 ],\n",
              "       [0.60515176],\n",
              "       [0.6460047 ],\n",
              "       [0.59930622],\n",
              "       [0.63948482],\n",
              "       [0.63049225],\n",
              "       [0.57756323],\n",
              "       [0.59416755],\n",
              "       [0.62586718],\n",
              "       [0.67654816],\n",
              "       [0.6098086 ],\n",
              "       [0.63318998],\n",
              "       [0.66941824],\n",
              "       [0.65605739],\n",
              "       [0.70150326],\n",
              "       [0.69774541],\n",
              "       [0.70365525],\n",
              "       [0.71907125],\n",
              "       [0.72819242],\n",
              "       [0.61655312],\n",
              "       [0.58173822],\n",
              "       [0.55482402],\n",
              "       [0.52222502],\n",
              "       [0.33723023],\n",
              "       [0.33112789],\n",
              "       [0.42992032],\n",
              "       [0.37265556],\n",
              "       [0.46589178],\n",
              "       [0.447938  ],\n",
              "       [0.35890932],\n",
              "       [0.38617676],\n",
              "       [0.40127206],\n",
              "       [0.40939741],\n",
              "       [0.23924073],\n",
              "       [0.38331828],\n",
              "       [0.305916  ],\n",
              "       [0.14086603],\n",
              "       [0.19267084],\n",
              "       [0.32293825],\n",
              "       [0.30119487],\n",
              "       [0.26197993],\n",
              "       [0.20513232],\n",
              "       [0.2556208 ],\n",
              "       [0.37631696],\n",
              "       [0.34102023],\n",
              "       [0.28882983],\n",
              "       [0.20044334],\n",
              "       [0.19215725],\n",
              "       [0.21659836],\n",
              "       [0.28420476],\n",
              "       [0.27386313],\n",
              "       [0.14060904],\n",
              "       [0.15910856],\n",
              "       [0.19716732],\n",
              "       [0.15307052],\n",
              "       [0.23252835],\n",
              "       [0.21900715],\n",
              "       [0.35332096],\n",
              "       [0.35996944],\n",
              "       [0.37965727],\n",
              "       [0.41819787],\n",
              "       [0.23959397],\n",
              "       [0.29711592],\n",
              "       [0.19385916],\n",
              "       [0.20339826],\n",
              "       [0.24258104],\n",
              "       [0.28089699],\n",
              "       [0.27518004],\n",
              "       [0.2115879 ],\n",
              "       [0.12946448],\n",
              "       [0.16858297],\n",
              "       [0.15027634],\n",
              "       [0.10659688],\n",
              "       [0.01066292],\n",
              "       [0.        ],\n",
              "       [0.20310892],\n",
              "       [0.21730485],\n",
              "       [0.19546502],\n",
              "       [0.19074389],\n",
              "       [0.22363184],\n",
              "       [0.12795487],\n",
              "       [0.30347506],\n",
              "       [0.29602405],\n",
              "       [0.32136454],\n",
              "       [0.31616157],\n",
              "       [0.30225459],\n",
              "       [0.26005259],\n",
              "       [0.21990613],\n",
              "       [0.32415872],\n",
              "       [0.3364273 ],\n",
              "       [0.3651081 ],\n",
              "       [0.39195801],\n",
              "       [0.30286502],\n",
              "       [0.31908395],\n",
              "       [0.31372064],\n",
              "       [0.36860876],\n",
              "       [0.30145166],\n",
              "       [0.27106895],\n",
              "       [0.36241037],\n",
              "       [0.45012214],\n",
              "       [0.43207231],\n",
              "       [0.50289082],\n",
              "       [0.54525317],\n",
              "       [0.44646074],\n",
              "       [0.39340312],\n",
              "       [0.38168067],\n",
              "       [0.38151993],\n",
              "       [0.46618073],\n",
              "       [0.46229467],\n",
              "       [0.4671444 ],\n",
              "       [0.44138637],\n",
              "       [0.45715601],\n",
              "       [0.44186821],\n",
              "       [0.38781477],\n",
              "       [0.43085185],\n",
              "       [0.42773657],\n",
              "       [0.44613965],\n",
              "       [0.44909457],\n",
              "       [0.46152389],\n",
              "       [0.52919459],\n",
              "       [0.55106657],\n",
              "       [0.59676923],\n",
              "       [0.58337623],\n",
              "       [0.53661384],\n",
              "       [0.53346603],\n",
              "       [0.64086603],\n",
              "       [0.69687818],\n",
              "       [0.69726357],\n",
              "       [0.67230886],\n",
              "       [0.66880781],\n",
              "       [0.66816563],\n",
              "       [0.71502446],\n",
              "       [0.79570276],\n",
              "       [0.82001567],\n",
              "       [0.73638245],\n",
              "       [0.696236  ],\n",
              "       [0.66932179],\n",
              "       [0.63206596],\n",
              "       [0.61751679],\n",
              "       [0.63299749],\n",
              "       [0.70082892],\n",
              "       [0.72029172],\n",
              "       [0.73773151],\n",
              "       [0.76689376],\n",
              "       [0.74168186]])"
            ]
          },
          "metadata": {},
          "execution_count": 18
        }
      ]
    },
    {
      "cell_type": "code",
      "source": [
        "import numpy\n",
        "def create_dataset(dataset, time_step=1):\n",
        "\tdataX, dataY = [], []\n",
        "\tfor i in range(len(dataset)-time_step-1):\n",
        "\t\ta = dataset[i:(i+time_step), 0]\n",
        "\t\tdataX.append(a)\n",
        "\t\tdataY.append(dataset[i + time_step, 0])\n",
        "\treturn numpy.array(dataX), numpy.array(dataY)"
      ],
      "metadata": {
        "id": "c2oQls7pa3kV"
      },
      "execution_count": 23,
      "outputs": []
    },
    {
      "cell_type": "code",
      "source": [
        "time_step = 100\n",
        "X_train, y_train = create_dataset(train_data, time_step)\n",
        "X_test, ytest = create_dataset(test_data, time_step)"
      ],
      "metadata": {
        "id": "S5xxkUtna3ma"
      },
      "execution_count": 20,
      "outputs": []
    },
    {
      "cell_type": "code",
      "source": [
        "print(X_train.shape), print(y_train.shape)"
      ],
      "metadata": {
        "colab": {
          "base_uri": "https://localhost:8080/"
        },
        "id": "BSPSAbi0a3og",
        "outputId": "cd0a1045-c42c-4296-e906-1e53128b76c2"
      },
      "execution_count": 21,
      "outputs": [
        {
          "output_type": "stream",
          "name": "stdout",
          "text": [
            "(62, 100)\n",
            "(62,)\n"
          ]
        },
        {
          "output_type": "execute_result",
          "data": {
            "text/plain": [
              "(None, None)"
            ]
          },
          "metadata": {},
          "execution_count": 21
        }
      ]
    },
    {
      "cell_type": "code",
      "source": [
        "print(X_test.shape), print(ytest.shape)"
      ],
      "metadata": {
        "colab": {
          "base_uri": "https://localhost:8080/"
        },
        "id": "2mepyVpCa3qp",
        "outputId": "4542b571-ed43-404e-dbcc-a46864a591de"
      },
      "execution_count": 22,
      "outputs": [
        {
          "output_type": "stream",
          "name": "stdout",
          "text": [
            "(0,)\n",
            "(0,)\n"
          ]
        },
        {
          "output_type": "execute_result",
          "data": {
            "text/plain": [
              "(None, None)"
            ]
          },
          "metadata": {},
          "execution_count": 22
        }
      ]
    },
    {
      "cell_type": "code",
      "source": [],
      "metadata": {
        "id": "7QN7fmT4a3sp"
      },
      "execution_count": null,
      "outputs": []
    },
    {
      "cell_type": "code",
      "source": [],
      "metadata": {
        "id": "620BILaZa3uv"
      },
      "execution_count": null,
      "outputs": []
    },
    {
      "cell_type": "code",
      "source": [],
      "metadata": {
        "id": "g0A3iGdca3w1"
      },
      "execution_count": null,
      "outputs": []
    },
    {
      "cell_type": "code",
      "source": [],
      "metadata": {
        "id": "2Eyngsqga3ye"
      },
      "execution_count": null,
      "outputs": []
    },
    {
      "cell_type": "code",
      "source": [],
      "metadata": {
        "id": "S1Ul8tQOa31b"
      },
      "execution_count": null,
      "outputs": []
    },
    {
      "cell_type": "code",
      "source": [],
      "metadata": {
        "id": "cn6dPiq3a342"
      },
      "execution_count": null,
      "outputs": []
    }
  ]
}